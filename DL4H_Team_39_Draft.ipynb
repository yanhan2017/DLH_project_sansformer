{
  "nbformat": 4,
  "nbformat_minor": 0,
  "metadata": {
    "colab": {
      "provenance": [],
      "gpuType": "T4"
    },
    "kernelspec": {
      "name": "python3",
      "display_name": "Python 3"
    },
    "language_info": {
      "name": "python"
    },
    "accelerator": "GPU"
  },
  "cells": [
    {
      "cell_type": "markdown",
      "source": [
        "# Link to GitHub Repo: https://github.com/yanhan2023/DLH_project_sansformer.git"
      ],
      "metadata": {
        "id": "_L5Vib3RrlOc"
      }
    },
    {
      "cell_type": "markdown",
      "source": [
        "# Prepare Environment"
      ],
      "metadata": {
        "id": "AKjkVlhZUf7R"
      }
    },
    {
      "cell_type": "code",
      "source": [
        "import time\n",
        "starttime = time.time()"
      ],
      "metadata": {
        "id": "6XrnKhSFo5YB"
      },
      "execution_count": 1,
      "outputs": []
    },
    {
      "cell_type": "code",
      "source": [
        "from google.colab import drive\n",
        "drive.mount('/content/drive')"
      ],
      "metadata": {
        "id": "sfk8Zrul_E8V",
        "colab": {
          "base_uri": "https://localhost:8080/"
        },
        "outputId": "ad6b87ae-d4fc-473e-c495-fe4ad714a84d"
      },
      "execution_count": 2,
      "outputs": [
        {
          "output_type": "stream",
          "name": "stdout",
          "text": [
            "Drive already mounted at /content/drive; to attempt to forcibly remount, call drive.mount(\"/content/drive\", force_remount=True).\n"
          ]
        }
      ]
    },
    {
      "cell_type": "code",
      "source": [
        "drive.mount(\"/content/drive\", force_remount=True)"
      ],
      "metadata": {
        "colab": {
          "base_uri": "https://localhost:8080/"
        },
        "id": "oCz4xGK-2g3c",
        "outputId": "edb45116-0d29-4ba0-a588-d751527eb4aa"
      },
      "execution_count": 3,
      "outputs": [
        {
          "output_type": "stream",
          "name": "stdout",
          "text": [
            "Mounted at /content/drive\n"
          ]
        }
      ]
    },
    {
      "cell_type": "code",
      "source": [
        "!pip install yacs\n",
        "!pip install einops\n",
        "!pip install torch_optimizer\n",
        "!pip install prettytable"
      ],
      "metadata": {
        "colab": {
          "base_uri": "https://localhost:8080/"
        },
        "id": "OqYY0A0KCIcW",
        "outputId": "fc5ac2c9-5dc7-4cb1-fd54-9709275f20ac"
      },
      "execution_count": 4,
      "outputs": [
        {
          "output_type": "stream",
          "name": "stdout",
          "text": [
            "Requirement already satisfied: yacs in /usr/local/lib/python3.10/dist-packages (0.1.8)\n",
            "Requirement already satisfied: PyYAML in /usr/local/lib/python3.10/dist-packages (from yacs) (6.0.1)\n",
            "Requirement already satisfied: einops in /usr/local/lib/python3.10/dist-packages (0.7.0)\n",
            "Requirement already satisfied: torch_optimizer in /usr/local/lib/python3.10/dist-packages (0.3.0)\n",
            "Requirement already satisfied: torch>=1.5.0 in /usr/local/lib/python3.10/dist-packages (from torch_optimizer) (2.2.1+cu121)\n",
            "Requirement already satisfied: pytorch-ranger>=0.1.1 in /usr/local/lib/python3.10/dist-packages (from torch_optimizer) (0.1.1)\n",
            "Requirement already satisfied: filelock in /usr/local/lib/python3.10/dist-packages (from torch>=1.5.0->torch_optimizer) (3.13.4)\n",
            "Requirement already satisfied: typing-extensions>=4.8.0 in /usr/local/lib/python3.10/dist-packages (from torch>=1.5.0->torch_optimizer) (4.11.0)\n",
            "Requirement already satisfied: sympy in /usr/local/lib/python3.10/dist-packages (from torch>=1.5.0->torch_optimizer) (1.12)\n",
            "Requirement already satisfied: networkx in /usr/local/lib/python3.10/dist-packages (from torch>=1.5.0->torch_optimizer) (3.3)\n",
            "Requirement already satisfied: jinja2 in /usr/local/lib/python3.10/dist-packages (from torch>=1.5.0->torch_optimizer) (3.1.3)\n",
            "Requirement already satisfied: fsspec in /usr/local/lib/python3.10/dist-packages (from torch>=1.5.0->torch_optimizer) (2023.6.0)\n",
            "Requirement already satisfied: nvidia-cuda-nvrtc-cu12==12.1.105 in /usr/local/lib/python3.10/dist-packages (from torch>=1.5.0->torch_optimizer) (12.1.105)\n",
            "Requirement already satisfied: nvidia-cuda-runtime-cu12==12.1.105 in /usr/local/lib/python3.10/dist-packages (from torch>=1.5.0->torch_optimizer) (12.1.105)\n",
            "Requirement already satisfied: nvidia-cuda-cupti-cu12==12.1.105 in /usr/local/lib/python3.10/dist-packages (from torch>=1.5.0->torch_optimizer) (12.1.105)\n",
            "Requirement already satisfied: nvidia-cudnn-cu12==8.9.2.26 in /usr/local/lib/python3.10/dist-packages (from torch>=1.5.0->torch_optimizer) (8.9.2.26)\n",
            "Requirement already satisfied: nvidia-cublas-cu12==12.1.3.1 in /usr/local/lib/python3.10/dist-packages (from torch>=1.5.0->torch_optimizer) (12.1.3.1)\n",
            "Requirement already satisfied: nvidia-cufft-cu12==11.0.2.54 in /usr/local/lib/python3.10/dist-packages (from torch>=1.5.0->torch_optimizer) (11.0.2.54)\n",
            "Requirement already satisfied: nvidia-curand-cu12==10.3.2.106 in /usr/local/lib/python3.10/dist-packages (from torch>=1.5.0->torch_optimizer) (10.3.2.106)\n",
            "Requirement already satisfied: nvidia-cusolver-cu12==11.4.5.107 in /usr/local/lib/python3.10/dist-packages (from torch>=1.5.0->torch_optimizer) (11.4.5.107)\n",
            "Requirement already satisfied: nvidia-cusparse-cu12==12.1.0.106 in /usr/local/lib/python3.10/dist-packages (from torch>=1.5.0->torch_optimizer) (12.1.0.106)\n",
            "Requirement already satisfied: nvidia-nccl-cu12==2.19.3 in /usr/local/lib/python3.10/dist-packages (from torch>=1.5.0->torch_optimizer) (2.19.3)\n",
            "Requirement already satisfied: nvidia-nvtx-cu12==12.1.105 in /usr/local/lib/python3.10/dist-packages (from torch>=1.5.0->torch_optimizer) (12.1.105)\n",
            "Requirement already satisfied: triton==2.2.0 in /usr/local/lib/python3.10/dist-packages (from torch>=1.5.0->torch_optimizer) (2.2.0)\n",
            "Requirement already satisfied: nvidia-nvjitlink-cu12 in /usr/local/lib/python3.10/dist-packages (from nvidia-cusolver-cu12==11.4.5.107->torch>=1.5.0->torch_optimizer) (12.4.127)\n",
            "Requirement already satisfied: MarkupSafe>=2.0 in /usr/local/lib/python3.10/dist-packages (from jinja2->torch>=1.5.0->torch_optimizer) (2.1.5)\n",
            "Requirement already satisfied: mpmath>=0.19 in /usr/local/lib/python3.10/dist-packages (from sympy->torch>=1.5.0->torch_optimizer) (1.3.0)\n",
            "Requirement already satisfied: prettytable in /usr/local/lib/python3.10/dist-packages (3.10.0)\n",
            "Requirement already satisfied: wcwidth in /usr/local/lib/python3.10/dist-packages (from prettytable) (0.2.13)\n"
          ]
        }
      ]
    },
    {
      "cell_type": "markdown",
      "source": [
        "# Introduction\n",
        "The challenge of applying Transformer models to Electronic Health Records (EHR) lies in their complex, multidimensional structure, which sometimes causes these sophisticated models to underperform compared to simpler methods. This gap highlights a missed opportunity to leverage Transformers' advantages, such as efficient transfer learning and scalability, within the realm of EHR analysis.\n",
        "\n",
        "Addressing this issue, the paper titled \"SANSformers: Self-Supervised Forecasting in Electronic Health Records with Attention-Free Models\" introduces the SANSformer model. This innovative, attention-free sequential model is specifically designed to navigate the unique complexities of EHR data, with a focus on enhancing predictions for future healthcare utilization. This enhancement is crucial for effectively managing healthcare resources, especially for diverse patient subgroups with distinct health trajectories, including those with rare diseases. The paper also employs a self-supervised pre-training strategy known as Generative Summary Pretraining (GSP), aimed at predicting future health trends from past records.\n",
        "\n",
        "Our project aims to replicate the findings of this seminal paper, especially its performance on predicting mortality rate on MIMIC data. By doing so, we seek to validate the potential of attention-free models and GSP techniques in improving healthcare resource prediction and management.\n"
      ],
      "metadata": {
        "id": "MQ0sNuMePBXx"
      }
    },
    {
      "cell_type": "markdown",
      "source": [
        "# Scope of Reproducibility:\n",
        "\n",
        "The paper established three tasks to evaluate model performance: 1) The number of physical visits to healthcare centers. 2) The counts of physical visits due to six specific disease categories. 3) predicting the probability of inpatient mortality. The first two tasks are both performed on the Pummel dataset, which is a confidential dataset. Therefore, we focus on reproducing the third task, which is performed on MIMIC-IV. We will train a SANSformer model on patient history, excluding the two most recent visits from each patient. Thus effectively predict the probability of mortality following the subsequent two visits. The tal_expire_flag feature from the MIMIC admissions table will be used as the label for mortality. After training, we will compare its AUC with that of several baseline models including logistic regression, RETAIN, BEHRT, BRLTM and SARD.  \n",
        "\n"
      ],
      "metadata": {
        "id": "uygL9tTPSVHB"
      }
    },
    {
      "cell_type": "markdown",
      "source": [
        "# Methodology"
      ],
      "metadata": {
        "id": "xWAHJ_1CdtaA"
      }
    },
    {
      "cell_type": "code",
      "source": [
        "# import  packages you need\n",
        "import os\n",
        "import time\n",
        "import sys\n",
        "import argparse\n",
        "import cv2\n",
        "import matplotlib.pyplot as plt\n",
        "import numpy as np\n",
        "import scipy.stats as stats\n",
        "import seaborn as sns\n",
        "import torch\n",
        "from matplotlib.pyplot import Line2D\n",
        "from sklearn.metrics import (\n",
        "    accuracy_score,\n",
        "    cohen_kappa_score,\n",
        "    f1_score,\n",
        "    mean_absolute_error,\n",
        "    mean_poisson_deviance,\n",
        "    precision_score,\n",
        "    r2_score,\n",
        "    recall_score,\n",
        "    roc_auc_score,\n",
        ")\n",
        "from torch.cuda.amp import GradScaler, autocast\n",
        "from tqdm import tqdm"
      ],
      "metadata": {
        "id": "yu61Jp1xrnKk"
      },
      "execution_count": 5,
      "outputs": []
    },
    {
      "cell_type": "code",
      "source": [
        "# TODO: change root_path to project path\n",
        "root_path = ''\n",
        "# root_path = '/content/drive/MyDrive/Colab_Notebooks/DLH/src'\n",
        "code_path = root_path\n",
        "full_data_path = os.path.join(root_path, 'preprocessed_data')\n",
        "sys.path.append(root_path)\n",
        "\n",
        "import dataset.loaders as loaders\n",
        "import utils.common as common\n",
        "from models.mimic_additive_sansformer import MimicAdditiveSansformerModel\n",
        "from models.mimic_axial_sansformer import MimicAxialSansformerModel\n",
        "from trainers.mimic_trainer import Trainer_MIMIC\n",
        "from trainers.base_trainer import BaseTrainer"
      ],
      "metadata": {
        "id": "TJNOeiS3V_I6"
      },
      "execution_count": 6,
      "outputs": []
    },
    {
      "cell_type": "markdown",
      "source": [
        "##  Data"
      ],
      "metadata": {
        "id": "2NbPHUTMbkD3"
      }
    },
    {
      "cell_type": "markdown",
      "source": [
        "0. For sake of simplicity and dataset storage limits, we load the mimic_iv_2.2 preprocessed data here, generated from the sourcecode preprocess.py.\n",
        "* Create paths for the data loader."
      ],
      "metadata": {
        "id": "XzVUQS0CHry0"
      }
    },
    {
      "cell_type": "code",
      "source": [
        "parser = argparse.ArgumentParser(description=\"parser\")\n",
        "parser.add_argument(\"--cfg\", dest=\"cfg_file\", help=\"Config file\", required=True, type=str)\n",
        "parser.add_argument(\n",
        "        \"opts\",\n",
        "        help=\"See src/config.py for all options\",\n",
        "        default=None,\n",
        "        nargs=argparse.REMAINDER,\n",
        "    )\n",
        "cfg_file_path = os.path.join(code_path, 'configs/config_axial_sansformer.yml')\n",
        "args = parser.parse_args(['--cfg', cfg_file_path])\n",
        "cfg = common.handle_config_and_log_paths(args)"
      ],
      "metadata": {
        "id": "GwrSd-KqlsON"
      },
      "execution_count": 7,
      "outputs": []
    },
    {
      "cell_type": "code",
      "source": [
        "cfg.defrost()\n",
        "cfg.PATHS.DATAPATH = full_data_path\n",
        "cfg.PATHS.VECTORIZER_PATH = os.path.join(full_data_path, 'vectorizer.pickle')"
      ],
      "metadata": {
        "id": "K4U7WR7G2OS9"
      },
      "execution_count": 8,
      "outputs": []
    },
    {
      "cell_type": "code",
      "source": [
        "# TODO: the saved model is too large to upload to GitHub, download from the link and use its path in config\n",
        "pretrained_model_link = 'https://drive.google.com/file/d/1_uv_v7DWI6CR8hon1q7F_Q_fHDyRkfG0/view?usp=sharing'\n",
        "cfg.PATHS.PRETRAINED_TRANSFORMER_FILE = ''\n",
        "# cfg.PATHS.PRETRAINED_TRANSFORMER_FILE = os.path.join(code_path, 'results/at_2024_04_12_00_05_14/saved_models/model.pth')"
      ],
      "metadata": {
        "id": "6eNItJYNyw33"
      },
      "execution_count": null,
      "outputs": []
    },
    {
      "cell_type": "code",
      "source": [
        "(train_dataloader, val_dataloader, test_dataloaders) = loaders.get_mimic_dataloaders(cfg)"
      ],
      "metadata": {
        "id": "1THATXmx1-By",
        "colab": {
          "base_uri": "https://localhost:8080/"
        },
        "outputId": "e437b514-f8fc-4b2f-92ce-94a1f86e4477"
      },
      "execution_count": 9,
      "outputs": [
        {
          "output_type": "stream",
          "name": "stdout",
          "text": [
            "Using seqlength of 200\n",
            "icd_all\n",
            "proc_all\n",
            "drg_all\n",
            "service_all\n",
            "admission_type\n",
            "insurance\n",
            "marital_status\n",
            "days_from_prev\n",
            "los\n",
            "Training: Stats\n",
            "count    15371.000000\n",
            "mean         7.205192\n",
            "std          7.565050\n",
            "min          3.000000\n",
            "25%          3.000000\n",
            "50%          5.000000\n",
            "75%          8.000000\n",
            "max        236.000000\n",
            "Name: seq_length, dtype: float64\n",
            "Using seqlength of 200\n",
            "icd_all\n",
            "proc_all\n",
            "drg_all\n",
            "service_all\n",
            "admission_type\n",
            "insurance\n",
            "marital_status\n",
            "days_from_prev\n",
            "los\n",
            "Using seqlength of 200\n",
            "icd_all\n",
            "proc_all\n",
            "drg_all\n",
            "service_all\n",
            "admission_type\n",
            "insurance\n",
            "marital_status\n",
            "days_from_prev\n",
            "los\n"
          ]
        }
      ]
    },
    {
      "cell_type": "code",
      "source": [
        "cfg.OPTIM.STEPS_PER_EPOCH = len(train_dataloader) // cfg.MODEL.ACCU_GRAD_STEPS\n",
        "cfg.MODEL.VOCAB_SIZE = train_dataloader.dataset.vectorizer.seq_vocab_len"
      ],
      "metadata": {
        "id": "SJmQBTx24yIe"
      },
      "execution_count": 10,
      "outputs": []
    },
    {
      "cell_type": "markdown",
      "source": [
        "We create the main dataframe by grouping all icd codes associated with each patient per admission from the original .csv files.\n",
        "\n",
        "For example, preprocess.py groups all diagnosis code from diagnoses_icd.csv.gz and generates a .feather file.\n",
        "\n",
        "Then, by merging all these grouped .feather files, we created the final patient dataset grouped_patient_rem.\n",
        "\n",
        "\n",
        "1. Group diagnosis codes ```icd_all``` asscoaited with each patient ```subject_id``` according to his/her admission id ```hadm_id```.\n",
        "\n",
        "* The preprocessing includes putting all the above 3 cols in one group_dict by utilizing the tqdm package.\n",
        "* ```subject_id``` and ```hadm_id``` are the group keys, with a value of \" \" in case of nan diagnoses codes value.\n",
        "* Same preprocessing techniques for the following dataset."
      ],
      "metadata": {
        "id": "NemNM-y4Wn6Y"
      }
    },
    {
      "cell_type": "code",
      "source": [
        "import pandas as pd\n",
        "\n",
        "grouped_diag_df = pd.read_feather(full_data_path + '/grouped_diag.feather')\n",
        "print(grouped_diag_df.head())\n",
        "print(grouped_diag_df.describe())"
      ],
      "metadata": {
        "id": "Sl3B85W4Wo03",
        "colab": {
          "base_uri": "https://localhost:8080/"
        },
        "outputId": "6e5cb18b-9310-4cb4-9a79-afd1d8d5ad4d"
      },
      "execution_count": 11,
      "outputs": [
        {
          "output_type": "stream",
          "name": "stdout",
          "text": [
            "   subject_id   hadm_id                                            icd_all\n",
            "0    10467237  20000019  IP9_038 IP9_590 IP9_753 IP9_584 IP9_276 IP9_99...\n",
            "1    16925328  20000024  IP10_D50 IP10_K52 IP10_I10 IP10_E53 IP10_M81 I...\n",
            "2    19430048  20000034  IP10_K83 IP10_K86 IP10_K86 IP10_K86 IP10_R10 I...\n",
            "3    18910522  20000041  IP9_715 IP9_250 IP9_V85 IP9_401 IP9_272 IP9_V4...\n",
            "4    11146739  20000057  IP9_719 IP9_719 IP9_996 IP9_E88 IP9_E84 IP9_46...\n",
            "         subject_id       hadm_id\n",
            "count  4.308520e+05  4.308520e+05\n",
            "mean   1.500753e+07  2.500309e+07\n",
            "std    2.877524e+06  2.888221e+06\n",
            "min    1.000003e+07  2.000002e+07\n",
            "25%    1.251542e+07  2.250159e+07\n",
            "50%    1.501270e+07  2.500660e+07\n",
            "75%    1.749606e+07  2.750474e+07\n",
            "max    1.999999e+07  2.999993e+07\n"
          ]
        }
      ]
    },
    {
      "cell_type": "markdown",
      "source": [
        "2. Group procedure codes ```proc_all``` asscoaited with each patient ```subject_id``` according to his/her admission id ```hadm_id```."
      ],
      "metadata": {
        "id": "n4MwEIM4Wt_7"
      }
    },
    {
      "cell_type": "code",
      "source": [
        "grouped_proc_df = pd.read_feather(full_data_path + '/grouped_proc.feather')\n",
        "print(grouped_proc_df.head())\n",
        "print(grouped_proc_df.describe())"
      ],
      "metadata": {
        "id": "887pcjHmWyrc",
        "colab": {
          "base_uri": "https://localhost:8080/"
        },
        "outputId": "5be5d0d6-e6f2-4659-bc2b-878c95574589"
      },
      "execution_count": 12,
      "outputs": [
        {
          "output_type": "stream",
          "name": "stdout",
          "text": [
            "   subject_id   hadm_id                                      proc_all\n",
            "0    18910522  20000041                                       IP9_815\n",
            "1    14546051  20000069                             IP10_0KQ IP10_10E\n",
            "2    13074106  20000102                               IP9_735 IP9_730\n",
            "3    14990224  20000147  IP10_021 IP10_B21 IP10_021 IP10_06B IP10_5A1\n",
            "4    12640657  20000235               IP9_372 IP9_885 IP9_452 IP9_399\n",
            "         subject_id       hadm_id\n",
            "count  2.294450e+05  2.294450e+05\n",
            "mean   1.501013e+07  2.500072e+07\n",
            "std    2.879863e+06  2.886367e+06\n",
            "min    1.000003e+07  2.000004e+07\n",
            "25%    1.251432e+07  2.250563e+07\n",
            "50%    1.501590e+07  2.499771e+07\n",
            "75%    1.750698e+07  2.750109e+07\n",
            "max    1.999999e+07  2.999983e+07\n"
          ]
        }
      ]
    },
    {
      "cell_type": "markdown",
      "source": [
        "3. Group drug codes ```drg_all``` asscoaited with each patient ```subject_id``` according to his/her admission id ```hadm_id```."
      ],
      "metadata": {
        "id": "JC8wElz5We16"
      }
    },
    {
      "cell_type": "code",
      "source": [
        "grouped_drg_df = pd.read_feather(full_data_path + '/grouped_drg.feather')\n",
        "print(grouped_drg_df.head())\n",
        "print(grouped_drg_df.describe())"
      ],
      "metadata": {
        "id": "mrZfFUw3XApb",
        "colab": {
          "base_uri": "https://localhost:8080/"
        },
        "outputId": "f82ee5a9-fb26-4667-f491-9f4dbdd85722"
      },
      "execution_count": 13,
      "outputs": [
        {
          "output_type": "stream",
          "name": "stdout",
          "text": [
            "   subject_id   hadm_id  drg_all\n",
            "0    10467237  20000019  720 872\n",
            "1    16925328  20000024  663 812\n",
            "2    18910522  20000041  302 470\n",
            "3    14546051  20000069  560 775\n",
            "4    14046553  20000094  194 291\n",
            "         subject_id       hadm_id\n",
            "count  3.119570e+05  3.119570e+05\n",
            "mean   1.500942e+07  2.500296e+07\n",
            "std    2.880352e+06  2.889658e+06\n",
            "min    1.000003e+07  2.000002e+07\n",
            "25%    1.251266e+07  2.250071e+07\n",
            "50%    1.500961e+07  2.500641e+07\n",
            "75%    1.750732e+07  2.750845e+07\n",
            "max    1.999999e+07  2.999983e+07\n"
          ]
        }
      ]
    },
    {
      "cell_type": "markdown",
      "source": [
        "4. Group drug codes ```service_all``` asscoaited with each patient ```subject_id``` according to his/her admission id ```hadm_id```."
      ],
      "metadata": {
        "id": "6Omn3rXPXCn6"
      }
    },
    {
      "cell_type": "code",
      "source": [
        "grouped_service_df = pd.read_feather(full_data_path + '/grouped_service.feather')\n",
        "print(grouped_service_df.head())\n",
        "print(grouped_service_df.describe())"
      ],
      "metadata": {
        "id": "CrGPGoaJXEpW",
        "colab": {
          "base_uri": "https://localhost:8080/"
        },
        "outputId": "67391123-162f-4b6e-e1cc-c7b5dfd95b8a"
      },
      "execution_count": 14,
      "outputs": [
        {
          "output_type": "stream",
          "name": "stdout",
          "text": [
            "   subject_id   hadm_id service_all\n",
            "0    10467237  20000019         MED\n",
            "1    16925328  20000024         MED\n",
            "2    19430048  20000034         MED\n",
            "3    18910522  20000041       ORTHO\n",
            "4    11146739  20000057         MED\n",
            "         subject_id       hadm_id\n",
            "count  4.312310e+05  4.312310e+05\n",
            "mean   1.500766e+07  2.500314e+07\n",
            "std    2.877498e+06  2.888180e+06\n",
            "min    1.000003e+07  2.000002e+07\n",
            "25%    1.251557e+07  2.250155e+07\n",
            "50%    1.501288e+07  2.500669e+07\n",
            "75%    1.749622e+07  2.750470e+07\n",
            "max    1.999999e+07  2.999993e+07\n"
          ]
        }
      ]
    },
    {
      "cell_type": "markdown",
      "source": [
        "5. Merge all the grouped datasets and create the test/train sets."
      ],
      "metadata": {
        "id": "CqZ_r-j5XGDM"
      }
    },
    {
      "cell_type": "code",
      "source": [
        "grouped_patient_rem2_df = pd.read_feather(full_data_path + '/grouped_patient_rem2.feather')\n",
        "\n",
        "mimic_train_rem2_df = pd.read_feather(full_data_path + '/mimic_train_rem2.feather')\n",
        "\n",
        "mimic_test_rem2_df = pd.read_feather(full_data_path + '/mimic_test_rem2.feather')"
      ],
      "metadata": {
        "id": "6LO8wc-1XIof"
      },
      "execution_count": 15,
      "outputs": []
    },
    {
      "cell_type": "markdown",
      "source": [
        "The training set has 35058 data points and the test set has 8765 data points. Each has 25 features and 1 target."
      ],
      "metadata": {
        "id": "n-mQMP9mY6B-"
      }
    },
    {
      "cell_type": "code",
      "source": [
        "print(\"Training set shape: \", mimic_train_rem2_df.shape)\n",
        "print(\"Test set shape: \", mimic_test_rem2_df.shape)"
      ],
      "metadata": {
        "colab": {
          "base_uri": "https://localhost:8080/"
        },
        "id": "NCjaTO2FYpoB",
        "outputId": "58c437b5-aaa8-41d3-ad0b-3eb10d9a8aa0"
      },
      "execution_count": 16,
      "outputs": [
        {
          "output_type": "stream",
          "name": "stdout",
          "text": [
            "Training set shape:  (35058, 26)\n",
            "Test set shape:  (8765, 26)\n"
          ]
        }
      ]
    },
    {
      "cell_type": "code",
      "source": [
        "mimic_train_rem2_df.describe()"
      ],
      "metadata": {
        "colab": {
          "base_uri": "https://localhost:8080/",
          "height": 300
        },
        "id": "vOK5Ou8hYD1J",
        "outputId": "4ad95192-7881-47be-b6ae-69ce19a10b90"
      },
      "execution_count": 17,
      "outputs": [
        {
          "output_type": "execute_result",
          "data": {
            "text/plain": [
              "         subject_id    seq_length  encoded_gender  encoded_ethnicity  \\\n",
              "count  3.505800e+04  35058.000000    35058.000000       35058.000000   \n",
              "mean   1.500361e+07      3.920218        0.469194          12.350990   \n",
              "std    2.879765e+06      5.800473        0.499057           6.536986   \n",
              "min    1.000003e+07      1.000000        0.000000           0.000000   \n",
              "25%    1.250449e+07      1.000000        0.000000           9.000000   \n",
              "50%    1.501819e+07      2.000000        0.000000           9.000000   \n",
              "75%    1.748134e+07      4.000000        1.000000          15.000000   \n",
              "max    1.999978e+07    236.000000        1.000000          32.000000   \n",
              "\n",
              "       encoded_language  \n",
              "count      35058.000000  \n",
              "mean           0.895060  \n",
              "std            0.306481  \n",
              "min            0.000000  \n",
              "25%            1.000000  \n",
              "50%            1.000000  \n",
              "75%            1.000000  \n",
              "max            1.000000  "
            ],
            "text/html": [
              "\n",
              "  <div id=\"df-04bed11c-06d2-4dd1-963e-703aafc3b09b\" class=\"colab-df-container\">\n",
              "    <div>\n",
              "<style scoped>\n",
              "    .dataframe tbody tr th:only-of-type {\n",
              "        vertical-align: middle;\n",
              "    }\n",
              "\n",
              "    .dataframe tbody tr th {\n",
              "        vertical-align: top;\n",
              "    }\n",
              "\n",
              "    .dataframe thead th {\n",
              "        text-align: right;\n",
              "    }\n",
              "</style>\n",
              "<table border=\"1\" class=\"dataframe\">\n",
              "  <thead>\n",
              "    <tr style=\"text-align: right;\">\n",
              "      <th></th>\n",
              "      <th>subject_id</th>\n",
              "      <th>seq_length</th>\n",
              "      <th>encoded_gender</th>\n",
              "      <th>encoded_ethnicity</th>\n",
              "      <th>encoded_language</th>\n",
              "    </tr>\n",
              "  </thead>\n",
              "  <tbody>\n",
              "    <tr>\n",
              "      <th>count</th>\n",
              "      <td>3.505800e+04</td>\n",
              "      <td>35058.000000</td>\n",
              "      <td>35058.000000</td>\n",
              "      <td>35058.000000</td>\n",
              "      <td>35058.000000</td>\n",
              "    </tr>\n",
              "    <tr>\n",
              "      <th>mean</th>\n",
              "      <td>1.500361e+07</td>\n",
              "      <td>3.920218</td>\n",
              "      <td>0.469194</td>\n",
              "      <td>12.350990</td>\n",
              "      <td>0.895060</td>\n",
              "    </tr>\n",
              "    <tr>\n",
              "      <th>std</th>\n",
              "      <td>2.879765e+06</td>\n",
              "      <td>5.800473</td>\n",
              "      <td>0.499057</td>\n",
              "      <td>6.536986</td>\n",
              "      <td>0.306481</td>\n",
              "    </tr>\n",
              "    <tr>\n",
              "      <th>min</th>\n",
              "      <td>1.000003e+07</td>\n",
              "      <td>1.000000</td>\n",
              "      <td>0.000000</td>\n",
              "      <td>0.000000</td>\n",
              "      <td>0.000000</td>\n",
              "    </tr>\n",
              "    <tr>\n",
              "      <th>25%</th>\n",
              "      <td>1.250449e+07</td>\n",
              "      <td>1.000000</td>\n",
              "      <td>0.000000</td>\n",
              "      <td>9.000000</td>\n",
              "      <td>1.000000</td>\n",
              "    </tr>\n",
              "    <tr>\n",
              "      <th>50%</th>\n",
              "      <td>1.501819e+07</td>\n",
              "      <td>2.000000</td>\n",
              "      <td>0.000000</td>\n",
              "      <td>9.000000</td>\n",
              "      <td>1.000000</td>\n",
              "    </tr>\n",
              "    <tr>\n",
              "      <th>75%</th>\n",
              "      <td>1.748134e+07</td>\n",
              "      <td>4.000000</td>\n",
              "      <td>1.000000</td>\n",
              "      <td>15.000000</td>\n",
              "      <td>1.000000</td>\n",
              "    </tr>\n",
              "    <tr>\n",
              "      <th>max</th>\n",
              "      <td>1.999978e+07</td>\n",
              "      <td>236.000000</td>\n",
              "      <td>1.000000</td>\n",
              "      <td>32.000000</td>\n",
              "      <td>1.000000</td>\n",
              "    </tr>\n",
              "  </tbody>\n",
              "</table>\n",
              "</div>\n",
              "    <div class=\"colab-df-buttons\">\n",
              "\n",
              "  <div class=\"colab-df-container\">\n",
              "    <button class=\"colab-df-convert\" onclick=\"convertToInteractive('df-04bed11c-06d2-4dd1-963e-703aafc3b09b')\"\n",
              "            title=\"Convert this dataframe to an interactive table.\"\n",
              "            style=\"display:none;\">\n",
              "\n",
              "  <svg xmlns=\"http://www.w3.org/2000/svg\" height=\"24px\" viewBox=\"0 -960 960 960\">\n",
              "    <path d=\"M120-120v-720h720v720H120Zm60-500h600v-160H180v160Zm220 220h160v-160H400v160Zm0 220h160v-160H400v160ZM180-400h160v-160H180v160Zm440 0h160v-160H620v160ZM180-180h160v-160H180v160Zm440 0h160v-160H620v160Z\"/>\n",
              "  </svg>\n",
              "    </button>\n",
              "\n",
              "  <style>\n",
              "    .colab-df-container {\n",
              "      display:flex;\n",
              "      gap: 12px;\n",
              "    }\n",
              "\n",
              "    .colab-df-convert {\n",
              "      background-color: #E8F0FE;\n",
              "      border: none;\n",
              "      border-radius: 50%;\n",
              "      cursor: pointer;\n",
              "      display: none;\n",
              "      fill: #1967D2;\n",
              "      height: 32px;\n",
              "      padding: 0 0 0 0;\n",
              "      width: 32px;\n",
              "    }\n",
              "\n",
              "    .colab-df-convert:hover {\n",
              "      background-color: #E2EBFA;\n",
              "      box-shadow: 0px 1px 2px rgba(60, 64, 67, 0.3), 0px 1px 3px 1px rgba(60, 64, 67, 0.15);\n",
              "      fill: #174EA6;\n",
              "    }\n",
              "\n",
              "    .colab-df-buttons div {\n",
              "      margin-bottom: 4px;\n",
              "    }\n",
              "\n",
              "    [theme=dark] .colab-df-convert {\n",
              "      background-color: #3B4455;\n",
              "      fill: #D2E3FC;\n",
              "    }\n",
              "\n",
              "    [theme=dark] .colab-df-convert:hover {\n",
              "      background-color: #434B5C;\n",
              "      box-shadow: 0px 1px 3px 1px rgba(0, 0, 0, 0.15);\n",
              "      filter: drop-shadow(0px 1px 2px rgba(0, 0, 0, 0.3));\n",
              "      fill: #FFFFFF;\n",
              "    }\n",
              "  </style>\n",
              "\n",
              "    <script>\n",
              "      const buttonEl =\n",
              "        document.querySelector('#df-04bed11c-06d2-4dd1-963e-703aafc3b09b button.colab-df-convert');\n",
              "      buttonEl.style.display =\n",
              "        google.colab.kernel.accessAllowed ? 'block' : 'none';\n",
              "\n",
              "      async function convertToInteractive(key) {\n",
              "        const element = document.querySelector('#df-04bed11c-06d2-4dd1-963e-703aafc3b09b');\n",
              "        const dataTable =\n",
              "          await google.colab.kernel.invokeFunction('convertToInteractive',\n",
              "                                                    [key], {});\n",
              "        if (!dataTable) return;\n",
              "\n",
              "        const docLinkHtml = 'Like what you see? Visit the ' +\n",
              "          '<a target=\"_blank\" href=https://colab.research.google.com/notebooks/data_table.ipynb>data table notebook</a>'\n",
              "          + ' to learn more about interactive tables.';\n",
              "        element.innerHTML = '';\n",
              "        dataTable['output_type'] = 'display_data';\n",
              "        await google.colab.output.renderOutput(dataTable, element);\n",
              "        const docLink = document.createElement('div');\n",
              "        docLink.innerHTML = docLinkHtml;\n",
              "        element.appendChild(docLink);\n",
              "      }\n",
              "    </script>\n",
              "  </div>\n",
              "\n",
              "\n",
              "<div id=\"df-68f476fa-8935-4934-9201-ccc224a82843\">\n",
              "  <button class=\"colab-df-quickchart\" onclick=\"quickchart('df-68f476fa-8935-4934-9201-ccc224a82843')\"\n",
              "            title=\"Suggest charts\"\n",
              "            style=\"display:none;\">\n",
              "\n",
              "<svg xmlns=\"http://www.w3.org/2000/svg\" height=\"24px\"viewBox=\"0 0 24 24\"\n",
              "     width=\"24px\">\n",
              "    <g>\n",
              "        <path d=\"M19 3H5c-1.1 0-2 .9-2 2v14c0 1.1.9 2 2 2h14c1.1 0 2-.9 2-2V5c0-1.1-.9-2-2-2zM9 17H7v-7h2v7zm4 0h-2V7h2v10zm4 0h-2v-4h2v4z\"/>\n",
              "    </g>\n",
              "</svg>\n",
              "  </button>\n",
              "\n",
              "<style>\n",
              "  .colab-df-quickchart {\n",
              "      --bg-color: #E8F0FE;\n",
              "      --fill-color: #1967D2;\n",
              "      --hover-bg-color: #E2EBFA;\n",
              "      --hover-fill-color: #174EA6;\n",
              "      --disabled-fill-color: #AAA;\n",
              "      --disabled-bg-color: #DDD;\n",
              "  }\n",
              "\n",
              "  [theme=dark] .colab-df-quickchart {\n",
              "      --bg-color: #3B4455;\n",
              "      --fill-color: #D2E3FC;\n",
              "      --hover-bg-color: #434B5C;\n",
              "      --hover-fill-color: #FFFFFF;\n",
              "      --disabled-bg-color: #3B4455;\n",
              "      --disabled-fill-color: #666;\n",
              "  }\n",
              "\n",
              "  .colab-df-quickchart {\n",
              "    background-color: var(--bg-color);\n",
              "    border: none;\n",
              "    border-radius: 50%;\n",
              "    cursor: pointer;\n",
              "    display: none;\n",
              "    fill: var(--fill-color);\n",
              "    height: 32px;\n",
              "    padding: 0;\n",
              "    width: 32px;\n",
              "  }\n",
              "\n",
              "  .colab-df-quickchart:hover {\n",
              "    background-color: var(--hover-bg-color);\n",
              "    box-shadow: 0 1px 2px rgba(60, 64, 67, 0.3), 0 1px 3px 1px rgba(60, 64, 67, 0.15);\n",
              "    fill: var(--button-hover-fill-color);\n",
              "  }\n",
              "\n",
              "  .colab-df-quickchart-complete:disabled,\n",
              "  .colab-df-quickchart-complete:disabled:hover {\n",
              "    background-color: var(--disabled-bg-color);\n",
              "    fill: var(--disabled-fill-color);\n",
              "    box-shadow: none;\n",
              "  }\n",
              "\n",
              "  .colab-df-spinner {\n",
              "    border: 2px solid var(--fill-color);\n",
              "    border-color: transparent;\n",
              "    border-bottom-color: var(--fill-color);\n",
              "    animation:\n",
              "      spin 1s steps(1) infinite;\n",
              "  }\n",
              "\n",
              "  @keyframes spin {\n",
              "    0% {\n",
              "      border-color: transparent;\n",
              "      border-bottom-color: var(--fill-color);\n",
              "      border-left-color: var(--fill-color);\n",
              "    }\n",
              "    20% {\n",
              "      border-color: transparent;\n",
              "      border-left-color: var(--fill-color);\n",
              "      border-top-color: var(--fill-color);\n",
              "    }\n",
              "    30% {\n",
              "      border-color: transparent;\n",
              "      border-left-color: var(--fill-color);\n",
              "      border-top-color: var(--fill-color);\n",
              "      border-right-color: var(--fill-color);\n",
              "    }\n",
              "    40% {\n",
              "      border-color: transparent;\n",
              "      border-right-color: var(--fill-color);\n",
              "      border-top-color: var(--fill-color);\n",
              "    }\n",
              "    60% {\n",
              "      border-color: transparent;\n",
              "      border-right-color: var(--fill-color);\n",
              "    }\n",
              "    80% {\n",
              "      border-color: transparent;\n",
              "      border-right-color: var(--fill-color);\n",
              "      border-bottom-color: var(--fill-color);\n",
              "    }\n",
              "    90% {\n",
              "      border-color: transparent;\n",
              "      border-bottom-color: var(--fill-color);\n",
              "    }\n",
              "  }\n",
              "</style>\n",
              "\n",
              "  <script>\n",
              "    async function quickchart(key) {\n",
              "      const quickchartButtonEl =\n",
              "        document.querySelector('#' + key + ' button');\n",
              "      quickchartButtonEl.disabled = true;  // To prevent multiple clicks.\n",
              "      quickchartButtonEl.classList.add('colab-df-spinner');\n",
              "      try {\n",
              "        const charts = await google.colab.kernel.invokeFunction(\n",
              "            'suggestCharts', [key], {});\n",
              "      } catch (error) {\n",
              "        console.error('Error during call to suggestCharts:', error);\n",
              "      }\n",
              "      quickchartButtonEl.classList.remove('colab-df-spinner');\n",
              "      quickchartButtonEl.classList.add('colab-df-quickchart-complete');\n",
              "    }\n",
              "    (() => {\n",
              "      let quickchartButtonEl =\n",
              "        document.querySelector('#df-68f476fa-8935-4934-9201-ccc224a82843 button');\n",
              "      quickchartButtonEl.style.display =\n",
              "        google.colab.kernel.accessAllowed ? 'block' : 'none';\n",
              "    })();\n",
              "  </script>\n",
              "</div>\n",
              "    </div>\n",
              "  </div>\n"
            ],
            "application/vnd.google.colaboratory.intrinsic+json": {
              "type": "dataframe",
              "summary": "{\n  \"name\": \"mimic_train_rem2_df\",\n  \"rows\": 8,\n  \"fields\": [\n    {\n      \"column\": \"subject_id\",\n      \"properties\": {\n        \"dtype\": \"number\",\n        \"std\": 6985511.397503443,\n        \"min\": 35058.0,\n        \"max\": 19999784.0,\n        \"num_unique_values\": 8,\n        \"samples\": [\n          15003608.532004107,\n          15018192.0,\n          35058.0\n        ],\n        \"semantic_type\": \"\",\n        \"description\": \"\"\n      }\n    },\n    {\n      \"column\": \"seq_length\",\n      \"properties\": {\n        \"dtype\": \"number\",\n        \"std\": 12382.328587513764,\n        \"min\": 1.0,\n        \"max\": 35058.0,\n        \"num_unique_values\": 7,\n        \"samples\": [\n          35058.0,\n          3.920217924582121,\n          4.0\n        ],\n        \"semantic_type\": \"\",\n        \"description\": \"\"\n      }\n    },\n    {\n      \"column\": \"encoded_gender\",\n      \"properties\": {\n        \"dtype\": \"number\",\n        \"std\": 12394.724855074768,\n        \"min\": 0.0,\n        \"max\": 35058.0,\n        \"num_unique_values\": 5,\n        \"samples\": [\n          0.4691939072394318,\n          1.0,\n          0.499057199949658\n        ],\n        \"semantic_type\": \"\",\n        \"description\": \"\"\n      }\n    },\n    {\n      \"column\": \"encoded_ethnicity\",\n      \"properties\": {\n        \"dtype\": \"number\",\n        \"std\": 12390.64124922852,\n        \"min\": 0.0,\n        \"max\": 35058.0,\n        \"num_unique_values\": 7,\n        \"samples\": [\n          35058.0,\n          12.350989788350732,\n          15.0\n        ],\n        \"semantic_type\": \"\",\n        \"description\": \"\"\n      }\n    },\n    {\n      \"column\": \"encoded_language\",\n      \"properties\": {\n        \"dtype\": \"number\",\n        \"std\": 12394.612055881815,\n        \"min\": 0.0,\n        \"max\": 35058.0,\n        \"num_unique_values\": 5,\n        \"samples\": [\n          0.8950596154943237,\n          1.0,\n          0.306480961066674\n        ],\n        \"semantic_type\": \"\",\n        \"description\": \"\"\n      }\n    }\n  ]\n}"
            }
          },
          "metadata": {},
          "execution_count": 17
        }
      ]
    },
    {
      "cell_type": "code",
      "source": [
        "mimic_test_rem2_df.describe()"
      ],
      "metadata": {
        "colab": {
          "base_uri": "https://localhost:8080/",
          "height": 300
        },
        "id": "F6AlVO0AYgIy",
        "outputId": "a2174f41-fe28-40d2-9142-5d50927cc5a3"
      },
      "execution_count": 18,
      "outputs": [
        {
          "output_type": "execute_result",
          "data": {
            "text/plain": [
              "         subject_id   seq_length  encoded_gender  encoded_ethnicity  \\\n",
              "count  8.765000e+03  8765.000000     8765.000000        8765.000000   \n",
              "mean   1.499825e+07     3.825214        0.469139          12.293098   \n",
              "std    2.884189e+06     5.361426        0.499075           6.438045   \n",
              "min    1.000140e+07     1.000000        0.000000           0.000000   \n",
              "25%    1.253293e+07     1.000000        0.000000           9.000000   \n",
              "50%    1.494788e+07     2.000000        0.000000           9.000000   \n",
              "75%    1.749759e+07     4.000000        1.000000          15.000000   \n",
              "max    1.999877e+07    93.000000        1.000000          32.000000   \n",
              "\n",
              "       encoded_language  \n",
              "count       8765.000000  \n",
              "mean           0.893326  \n",
              "std            0.308716  \n",
              "min            0.000000  \n",
              "25%            1.000000  \n",
              "50%            1.000000  \n",
              "75%            1.000000  \n",
              "max            1.000000  "
            ],
            "text/html": [
              "\n",
              "  <div id=\"df-6361b765-c0e5-4bc2-9485-06cc3a899e57\" class=\"colab-df-container\">\n",
              "    <div>\n",
              "<style scoped>\n",
              "    .dataframe tbody tr th:only-of-type {\n",
              "        vertical-align: middle;\n",
              "    }\n",
              "\n",
              "    .dataframe tbody tr th {\n",
              "        vertical-align: top;\n",
              "    }\n",
              "\n",
              "    .dataframe thead th {\n",
              "        text-align: right;\n",
              "    }\n",
              "</style>\n",
              "<table border=\"1\" class=\"dataframe\">\n",
              "  <thead>\n",
              "    <tr style=\"text-align: right;\">\n",
              "      <th></th>\n",
              "      <th>subject_id</th>\n",
              "      <th>seq_length</th>\n",
              "      <th>encoded_gender</th>\n",
              "      <th>encoded_ethnicity</th>\n",
              "      <th>encoded_language</th>\n",
              "    </tr>\n",
              "  </thead>\n",
              "  <tbody>\n",
              "    <tr>\n",
              "      <th>count</th>\n",
              "      <td>8.765000e+03</td>\n",
              "      <td>8765.000000</td>\n",
              "      <td>8765.000000</td>\n",
              "      <td>8765.000000</td>\n",
              "      <td>8765.000000</td>\n",
              "    </tr>\n",
              "    <tr>\n",
              "      <th>mean</th>\n",
              "      <td>1.499825e+07</td>\n",
              "      <td>3.825214</td>\n",
              "      <td>0.469139</td>\n",
              "      <td>12.293098</td>\n",
              "      <td>0.893326</td>\n",
              "    </tr>\n",
              "    <tr>\n",
              "      <th>std</th>\n",
              "      <td>2.884189e+06</td>\n",
              "      <td>5.361426</td>\n",
              "      <td>0.499075</td>\n",
              "      <td>6.438045</td>\n",
              "      <td>0.308716</td>\n",
              "    </tr>\n",
              "    <tr>\n",
              "      <th>min</th>\n",
              "      <td>1.000140e+07</td>\n",
              "      <td>1.000000</td>\n",
              "      <td>0.000000</td>\n",
              "      <td>0.000000</td>\n",
              "      <td>0.000000</td>\n",
              "    </tr>\n",
              "    <tr>\n",
              "      <th>25%</th>\n",
              "      <td>1.253293e+07</td>\n",
              "      <td>1.000000</td>\n",
              "      <td>0.000000</td>\n",
              "      <td>9.000000</td>\n",
              "      <td>1.000000</td>\n",
              "    </tr>\n",
              "    <tr>\n",
              "      <th>50%</th>\n",
              "      <td>1.494788e+07</td>\n",
              "      <td>2.000000</td>\n",
              "      <td>0.000000</td>\n",
              "      <td>9.000000</td>\n",
              "      <td>1.000000</td>\n",
              "    </tr>\n",
              "    <tr>\n",
              "      <th>75%</th>\n",
              "      <td>1.749759e+07</td>\n",
              "      <td>4.000000</td>\n",
              "      <td>1.000000</td>\n",
              "      <td>15.000000</td>\n",
              "      <td>1.000000</td>\n",
              "    </tr>\n",
              "    <tr>\n",
              "      <th>max</th>\n",
              "      <td>1.999877e+07</td>\n",
              "      <td>93.000000</td>\n",
              "      <td>1.000000</td>\n",
              "      <td>32.000000</td>\n",
              "      <td>1.000000</td>\n",
              "    </tr>\n",
              "  </tbody>\n",
              "</table>\n",
              "</div>\n",
              "    <div class=\"colab-df-buttons\">\n",
              "\n",
              "  <div class=\"colab-df-container\">\n",
              "    <button class=\"colab-df-convert\" onclick=\"convertToInteractive('df-6361b765-c0e5-4bc2-9485-06cc3a899e57')\"\n",
              "            title=\"Convert this dataframe to an interactive table.\"\n",
              "            style=\"display:none;\">\n",
              "\n",
              "  <svg xmlns=\"http://www.w3.org/2000/svg\" height=\"24px\" viewBox=\"0 -960 960 960\">\n",
              "    <path d=\"M120-120v-720h720v720H120Zm60-500h600v-160H180v160Zm220 220h160v-160H400v160Zm0 220h160v-160H400v160ZM180-400h160v-160H180v160Zm440 0h160v-160H620v160ZM180-180h160v-160H180v160Zm440 0h160v-160H620v160Z\"/>\n",
              "  </svg>\n",
              "    </button>\n",
              "\n",
              "  <style>\n",
              "    .colab-df-container {\n",
              "      display:flex;\n",
              "      gap: 12px;\n",
              "    }\n",
              "\n",
              "    .colab-df-convert {\n",
              "      background-color: #E8F0FE;\n",
              "      border: none;\n",
              "      border-radius: 50%;\n",
              "      cursor: pointer;\n",
              "      display: none;\n",
              "      fill: #1967D2;\n",
              "      height: 32px;\n",
              "      padding: 0 0 0 0;\n",
              "      width: 32px;\n",
              "    }\n",
              "\n",
              "    .colab-df-convert:hover {\n",
              "      background-color: #E2EBFA;\n",
              "      box-shadow: 0px 1px 2px rgba(60, 64, 67, 0.3), 0px 1px 3px 1px rgba(60, 64, 67, 0.15);\n",
              "      fill: #174EA6;\n",
              "    }\n",
              "\n",
              "    .colab-df-buttons div {\n",
              "      margin-bottom: 4px;\n",
              "    }\n",
              "\n",
              "    [theme=dark] .colab-df-convert {\n",
              "      background-color: #3B4455;\n",
              "      fill: #D2E3FC;\n",
              "    }\n",
              "\n",
              "    [theme=dark] .colab-df-convert:hover {\n",
              "      background-color: #434B5C;\n",
              "      box-shadow: 0px 1px 3px 1px rgba(0, 0, 0, 0.15);\n",
              "      filter: drop-shadow(0px 1px 2px rgba(0, 0, 0, 0.3));\n",
              "      fill: #FFFFFF;\n",
              "    }\n",
              "  </style>\n",
              "\n",
              "    <script>\n",
              "      const buttonEl =\n",
              "        document.querySelector('#df-6361b765-c0e5-4bc2-9485-06cc3a899e57 button.colab-df-convert');\n",
              "      buttonEl.style.display =\n",
              "        google.colab.kernel.accessAllowed ? 'block' : 'none';\n",
              "\n",
              "      async function convertToInteractive(key) {\n",
              "        const element = document.querySelector('#df-6361b765-c0e5-4bc2-9485-06cc3a899e57');\n",
              "        const dataTable =\n",
              "          await google.colab.kernel.invokeFunction('convertToInteractive',\n",
              "                                                    [key], {});\n",
              "        if (!dataTable) return;\n",
              "\n",
              "        const docLinkHtml = 'Like what you see? Visit the ' +\n",
              "          '<a target=\"_blank\" href=https://colab.research.google.com/notebooks/data_table.ipynb>data table notebook</a>'\n",
              "          + ' to learn more about interactive tables.';\n",
              "        element.innerHTML = '';\n",
              "        dataTable['output_type'] = 'display_data';\n",
              "        await google.colab.output.renderOutput(dataTable, element);\n",
              "        const docLink = document.createElement('div');\n",
              "        docLink.innerHTML = docLinkHtml;\n",
              "        element.appendChild(docLink);\n",
              "      }\n",
              "    </script>\n",
              "  </div>\n",
              "\n",
              "\n",
              "<div id=\"df-e1bcb7cd-8efa-413f-9835-6baeef2b3232\">\n",
              "  <button class=\"colab-df-quickchart\" onclick=\"quickchart('df-e1bcb7cd-8efa-413f-9835-6baeef2b3232')\"\n",
              "            title=\"Suggest charts\"\n",
              "            style=\"display:none;\">\n",
              "\n",
              "<svg xmlns=\"http://www.w3.org/2000/svg\" height=\"24px\"viewBox=\"0 0 24 24\"\n",
              "     width=\"24px\">\n",
              "    <g>\n",
              "        <path d=\"M19 3H5c-1.1 0-2 .9-2 2v14c0 1.1.9 2 2 2h14c1.1 0 2-.9 2-2V5c0-1.1-.9-2-2-2zM9 17H7v-7h2v7zm4 0h-2V7h2v10zm4 0h-2v-4h2v4z\"/>\n",
              "    </g>\n",
              "</svg>\n",
              "  </button>\n",
              "\n",
              "<style>\n",
              "  .colab-df-quickchart {\n",
              "      --bg-color: #E8F0FE;\n",
              "      --fill-color: #1967D2;\n",
              "      --hover-bg-color: #E2EBFA;\n",
              "      --hover-fill-color: #174EA6;\n",
              "      --disabled-fill-color: #AAA;\n",
              "      --disabled-bg-color: #DDD;\n",
              "  }\n",
              "\n",
              "  [theme=dark] .colab-df-quickchart {\n",
              "      --bg-color: #3B4455;\n",
              "      --fill-color: #D2E3FC;\n",
              "      --hover-bg-color: #434B5C;\n",
              "      --hover-fill-color: #FFFFFF;\n",
              "      --disabled-bg-color: #3B4455;\n",
              "      --disabled-fill-color: #666;\n",
              "  }\n",
              "\n",
              "  .colab-df-quickchart {\n",
              "    background-color: var(--bg-color);\n",
              "    border: none;\n",
              "    border-radius: 50%;\n",
              "    cursor: pointer;\n",
              "    display: none;\n",
              "    fill: var(--fill-color);\n",
              "    height: 32px;\n",
              "    padding: 0;\n",
              "    width: 32px;\n",
              "  }\n",
              "\n",
              "  .colab-df-quickchart:hover {\n",
              "    background-color: var(--hover-bg-color);\n",
              "    box-shadow: 0 1px 2px rgba(60, 64, 67, 0.3), 0 1px 3px 1px rgba(60, 64, 67, 0.15);\n",
              "    fill: var(--button-hover-fill-color);\n",
              "  }\n",
              "\n",
              "  .colab-df-quickchart-complete:disabled,\n",
              "  .colab-df-quickchart-complete:disabled:hover {\n",
              "    background-color: var(--disabled-bg-color);\n",
              "    fill: var(--disabled-fill-color);\n",
              "    box-shadow: none;\n",
              "  }\n",
              "\n",
              "  .colab-df-spinner {\n",
              "    border: 2px solid var(--fill-color);\n",
              "    border-color: transparent;\n",
              "    border-bottom-color: var(--fill-color);\n",
              "    animation:\n",
              "      spin 1s steps(1) infinite;\n",
              "  }\n",
              "\n",
              "  @keyframes spin {\n",
              "    0% {\n",
              "      border-color: transparent;\n",
              "      border-bottom-color: var(--fill-color);\n",
              "      border-left-color: var(--fill-color);\n",
              "    }\n",
              "    20% {\n",
              "      border-color: transparent;\n",
              "      border-left-color: var(--fill-color);\n",
              "      border-top-color: var(--fill-color);\n",
              "    }\n",
              "    30% {\n",
              "      border-color: transparent;\n",
              "      border-left-color: var(--fill-color);\n",
              "      border-top-color: var(--fill-color);\n",
              "      border-right-color: var(--fill-color);\n",
              "    }\n",
              "    40% {\n",
              "      border-color: transparent;\n",
              "      border-right-color: var(--fill-color);\n",
              "      border-top-color: var(--fill-color);\n",
              "    }\n",
              "    60% {\n",
              "      border-color: transparent;\n",
              "      border-right-color: var(--fill-color);\n",
              "    }\n",
              "    80% {\n",
              "      border-color: transparent;\n",
              "      border-right-color: var(--fill-color);\n",
              "      border-bottom-color: var(--fill-color);\n",
              "    }\n",
              "    90% {\n",
              "      border-color: transparent;\n",
              "      border-bottom-color: var(--fill-color);\n",
              "    }\n",
              "  }\n",
              "</style>\n",
              "\n",
              "  <script>\n",
              "    async function quickchart(key) {\n",
              "      const quickchartButtonEl =\n",
              "        document.querySelector('#' + key + ' button');\n",
              "      quickchartButtonEl.disabled = true;  // To prevent multiple clicks.\n",
              "      quickchartButtonEl.classList.add('colab-df-spinner');\n",
              "      try {\n",
              "        const charts = await google.colab.kernel.invokeFunction(\n",
              "            'suggestCharts', [key], {});\n",
              "      } catch (error) {\n",
              "        console.error('Error during call to suggestCharts:', error);\n",
              "      }\n",
              "      quickchartButtonEl.classList.remove('colab-df-spinner');\n",
              "      quickchartButtonEl.classList.add('colab-df-quickchart-complete');\n",
              "    }\n",
              "    (() => {\n",
              "      let quickchartButtonEl =\n",
              "        document.querySelector('#df-e1bcb7cd-8efa-413f-9835-6baeef2b3232 button');\n",
              "      quickchartButtonEl.style.display =\n",
              "        google.colab.kernel.accessAllowed ? 'block' : 'none';\n",
              "    })();\n",
              "  </script>\n",
              "</div>\n",
              "    </div>\n",
              "  </div>\n"
            ],
            "application/vnd.google.colaboratory.intrinsic+json": {
              "type": "dataframe",
              "summary": "{\n  \"name\": \"mimic_test_rem2_df\",\n  \"rows\": 8,\n  \"fields\": [\n    {\n      \"column\": \"subject_id\",\n      \"properties\": {\n        \"dtype\": \"number\",\n        \"std\": 6987996.587596632,\n        \"min\": 8765.0,\n        \"max\": 19998770.0,\n        \"num_unique_values\": 8,\n        \"samples\": [\n          14998253.751853965,\n          14947876.0,\n          8765.0\n        ],\n        \"semantic_type\": \"\",\n        \"description\": \"\"\n      }\n    },\n    {\n      \"column\": \"seq_length\",\n      \"properties\": {\n        \"dtype\": \"number\",\n        \"std\": 3093.49137337324,\n        \"min\": 1.0,\n        \"max\": 8765.0,\n        \"num_unique_values\": 7,\n        \"samples\": [\n          8765.0,\n          3.825213918996007,\n          4.0\n        ],\n        \"semantic_type\": \"\",\n        \"description\": \"\"\n      }\n    },\n    {\n      \"column\": \"encoded_gender\",\n      \"properties\": {\n        \"dtype\": \"number\",\n        \"std\": 3098.7455790203376,\n        \"min\": 0.0,\n        \"max\": 8765.0,\n        \"num_unique_values\": 5,\n        \"samples\": [\n          0.46913861950941244,\n          1.0,\n          0.4990751369351684\n        ],\n        \"semantic_type\": \"\",\n        \"description\": \"\"\n      }\n    },\n    {\n      \"column\": \"encoded_ethnicity\",\n      \"properties\": {\n        \"dtype\": \"number\",\n        \"std\": 3094.6803022876466,\n        \"min\": 0.0,\n        \"max\": 8765.0,\n        \"num_unique_values\": 7,\n        \"samples\": [\n          8765.0,\n          12.29309754706218,\n          15.0\n        ],\n        \"semantic_type\": \"\",\n        \"description\": \"\"\n      }\n    },\n    {\n      \"column\": \"encoded_language\",\n      \"properties\": {\n        \"dtype\": \"number\",\n        \"std\": 3098.6327494354723,\n        \"min\": 0.0,\n        \"max\": 8765.0,\n        \"num_unique_values\": 5,\n        \"samples\": [\n          0.8933257273245864,\n          1.0,\n          0.3087162866931594\n        ],\n        \"semantic_type\": \"\",\n        \"description\": \"\"\n      }\n    }\n  ]\n}"
            }
          },
          "metadata": {},
          "execution_count": 18
        }
      ]
    },
    {
      "cell_type": "markdown",
      "source": [
        "##   Model"
      ],
      "metadata": {
        "id": "3muyDPFPbozY"
      }
    },
    {
      "cell_type": "markdown",
      "source": [
        "Due to the huge amount of time required to run an epoch on our trained model, we loaded the pre-trained model instead to comply with the 8-min runtime limit."
      ],
      "metadata": {
        "id": "FEFpNWRwh41x"
      }
    },
    {
      "cell_type": "markdown",
      "source": [
        "### Model definition"
      ],
      "metadata": {
        "id": "sefd2bqJZWwC"
      }
    },
    {
      "cell_type": "code",
      "source": [
        "class Trainer_MIMIC(BaseTrainer):\n",
        "    def __init__(self, cfg, model, train_dataloader, val_dataloader, test_dataloaders):\n",
        "        super().__init__(cfg, model, train_dataloader, val_dataloader, test_dataloaders)\n",
        "\n",
        "        self.epoch_log_variables = {\n",
        "            \"y_outcomes\": [],\n",
        "            \"y_los\": [],\n",
        "            \"y_bin_preds\": [],\n",
        "            \"y_los_preds\": [],\n",
        "        }\n",
        "\n",
        "    def _init_log_variables(self):\n",
        "        for k, _ in self.epoch_log_variables.items():\n",
        "            self.epoch_log_variables[k] = []\n",
        "\n",
        "    def plot_training_curves(self):\n",
        "        loss_fig_save_path = os.path.join(self.cfg.PATHS.OUT_DIR, \"training_losses.png\")\n",
        "\n",
        "        with plt.style.context(\"seaborn-muted\"):\n",
        "            # plot training curves\n",
        "            fig, ax = plt.subplots(\n",
        "                nrows=2, ncols=2, figsize=(14, 8), constrained_layout=True\n",
        "            )\n",
        "            steps_grid = np.arange(len(self.training_metrics[\"lr\"])) + 1\n",
        "\n",
        "            x_grid = np.arange(len(self.training_metrics[\"loss\"])) + 1\n",
        "            min_loss_at = np.argmin(np.array(self.validation_metrics[\"loss\"]))\n",
        "\n",
        "            ax.flat[0].plot(\n",
        "                x_grid, self.validation_metrics[\"loss\"], label=\"Val Loss\", marker=\"o\"\n",
        "            )\n",
        "            ax.flat[0].plot(\n",
        "                x_grid, self.training_metrics[\"loss\"], label=\"Train Loss\", marker=\"o\"\n",
        "            )\n",
        "            ax.flat[0].axvline(min_loss_at + 1, linestyle=\"--\", label=\"Min Loss\")\n",
        "            ax.flat[0].set_xlabel(\"Epochs\")\n",
        "            ax.flat[0].set_ylabel(\"Loss\")\n",
        "            ax.flat[0].set_title(\"Total Loss Curve\")\n",
        "            ax.flat[0].legend()\n",
        "\n",
        "            min_loss_at = np.argmin(np.array(self.validation_metrics[\"los_loss\"]))\n",
        "\n",
        "            ax.flat[2].plot(\n",
        "                x_grid,\n",
        "                self.validation_metrics[\"los_loss\"],\n",
        "                label=\"Val Loss\",\n",
        "                marker=\"o\",\n",
        "            )\n",
        "            ax.flat[2].plot(\n",
        "                x_grid,\n",
        "                self.training_metrics[\"los_loss\"],\n",
        "                label=\"Train Loss\",\n",
        "                marker=\"o\",\n",
        "            )\n",
        "            ax.flat[2].axvline(min_loss_at + 1, linestyle=\"--\", label=\"Min Loss\")\n",
        "            ax.flat[2].set_xlabel(\"Epochs\")\n",
        "            ax.flat[2].set_ylabel(\"Loss\")\n",
        "            ax.flat[2].set_title(\"LoS Loss Curve\")\n",
        "            ax.flat[2].legend()\n",
        "\n",
        "            min_loss_at = np.argmin(np.array(self.validation_metrics[\"bin_loss\"]))\n",
        "\n",
        "            ax.flat[3].plot(\n",
        "                x_grid,\n",
        "                self.validation_metrics[\"bin_loss\"],\n",
        "                label=\"Val Loss\",\n",
        "                marker=\"o\",\n",
        "            )\n",
        "            ax.flat[3].plot(\n",
        "                x_grid,\n",
        "                self.training_metrics[\"bin_loss\"],\n",
        "                label=\"Train Loss\",\n",
        "                marker=\"o\",\n",
        "            )\n",
        "            ax.flat[3].axvline(min_loss_at + 1, linestyle=\"--\", label=\"Min Loss\")\n",
        "            ax.flat[3].set_xlabel(\"Epochs\")\n",
        "            ax.flat[3].set_ylabel(\"Loss\")\n",
        "            ax.flat[3].set_title(\"Bin. Loss Curve\")\n",
        "            ax.flat[3].legend()\n",
        "\n",
        "            fig.savefig(loss_fig_save_path)\n",
        "\n",
        "        return\n",
        "\n",
        "    def compute_dist_metrics(self, log_variables: dict):\n",
        "        \"Note: log_variables is available from state, passing in dummy arg for clarity\"\n",
        "        # override base trainer\n",
        "\n",
        "        return_dict = {}\n",
        "\n",
        "        y_bin_pred = np.array(self.epoch_log_variables[\"y_bin_preds\"])\n",
        "        y_bin_pred_thresh = (y_bin_pred > 0.5).astype(np.int8)\n",
        "        y_bin_true = np.array(self.epoch_log_variables[\"y_outcomes\"])\n",
        "\n",
        "        y_los_pred = np.array(self.epoch_log_variables[\"y_los_preds\"])\n",
        "        y_los_true = np.array(self.epoch_log_variables[\"y_los\"])\n",
        "\n",
        "        # metrics\n",
        "        auc_bin = roc_auc_score(y_bin_true, y_bin_pred)\n",
        "\n",
        "        spearman_los, _ = stats.spearmanr(y_los_true, y_los_pred)\n",
        "        # r2_los = r2_score(y_los_true, y_los_pred)\n",
        "\n",
        "        return_dict = {\n",
        "            \"auc_bin\": auc_bin,\n",
        "            \"spearman_los\": spearman_los,\n",
        "        }\n",
        "\n",
        "        return return_dict\n",
        "\n",
        "    def run_epoch(self, split, dataloader, epoch_count=0):\n",
        "        assert split.lower() in (\"train\", \"validation\", \"test\")\n",
        "\n",
        "        self._init_log_variables()\n",
        "\n",
        "        is_train = True if split.lower() == \"train\" else False\n",
        "        self.model.train(is_train)\n",
        "\n",
        "        lr = 0.0\n",
        "        losses = []\n",
        "        bin_losses = []\n",
        "        los_losses = []\n",
        "        pbar = (\n",
        "            tqdm(enumerate(dataloader), total=len(dataloader))\n",
        "            if is_train\n",
        "            else enumerate(dataloader)\n",
        "        )\n",
        "        self.model.zero_grad()\n",
        "        acc_steps = self.cfg.MODEL.ACCU_GRAD_STEPS\n",
        "        for it, batch in pbar:\n",
        "            # place data on the correct device\n",
        "            batch_dict = self._prepare_batch(batch)\n",
        "            # forward the model\n",
        "            with torch.set_grad_enabled(is_train):\n",
        "                with autocast(enabled=self.cfg.USE_AMP):\n",
        "                    (\n",
        "                        loss,\n",
        "                        bin_loss,\n",
        "                        los_loss,\n",
        "                        y_pred_bin,\n",
        "                        y_los_pred,\n",
        "                        y_los_true,\n",
        "                        patient_vec,\n",
        "                    ) = self.model(**batch_dict)\n",
        "            report_loss = loss\n",
        "            if is_train:\n",
        "                loss = loss / acc_steps\n",
        "                # backprop and update the parameters\n",
        "                self.grad_scaler.scale(loss).backward()\n",
        "                if (it + 1) % self.cfg.MODEL.ACCU_GRAD_STEPS == 0:\n",
        "                    self.grad_scaler.unscale_(self.optimizer)\n",
        "                    torch.nn.utils.clip_grad_value_(\n",
        "                        self.model.parameters(), self.cfg.OPTIM.GRAD_CLIP_T\n",
        "                    )\n",
        "                    self.grad_scaler.step(self.optimizer)\n",
        "                    self.grad_scaler.update()\n",
        "                    self.model.zero_grad()\n",
        "\n",
        "                    lr = 0.0\n",
        "                    for param_group in self.optimizer.param_groups:\n",
        "                        lr = param_group[\"lr\"]\n",
        "\n",
        "                    if self.cfg.OPTIM.LR_POLICY in [\"1cycle\"]:\n",
        "                        self.scheduler.step()\n",
        "                    self.training_metrics[\"lr\"].append(lr)\n",
        "\n",
        "                # report progress\n",
        "                pbar.set_description(\n",
        "                    f\"epoch {epoch_count + 1} iter {it}: train loss {loss.item() * acc_steps:.5f} lr {lr:e}\"\n",
        "                )\n",
        "\n",
        "            # store metrics for logging\n",
        "            losses.append(report_loss.item())\n",
        "            bin_losses.append(bin_loss.item())\n",
        "            los_losses.append(los_loss.item())\n",
        "\n",
        "            self.epoch_log_variables[\"y_outcomes\"].extend(\n",
        "                batch_dict[\"y_outcome\"].cpu().detach().numpy().tolist()\n",
        "            )\n",
        "            self.epoch_log_variables[\"y_los\"].extend(\n",
        "                y_los_true.cpu().detach().numpy().tolist()\n",
        "            )\n",
        "            self.epoch_log_variables[\"y_bin_preds\"].extend(\n",
        "                y_pred_bin.cpu().detach().numpy().tolist()\n",
        "            )\n",
        "            self.epoch_log_variables[\"y_los_preds\"].extend(\n",
        "                y_los_pred.cpu().detach().numpy().tolist()\n",
        "            )\n",
        "\n",
        "        metrics_d = {\n",
        "            \"loss\": float(np.mean(losses)),\n",
        "            \"bin_loss\": float(np.mean(bin_losses)),\n",
        "            \"los_loss\": float(np.mean(los_losses)),\n",
        "        }\n",
        "\n",
        "        if not is_train:\n",
        "            pass\n",
        "            metrics_d.update(self.compute_dist_metrics(self.epoch_log_variables))\n",
        "\n",
        "        # compute metrics\n",
        "        print_str = f\"{split} epoch: {epoch_count+1} \"\n",
        "        for k, v in metrics_d.items():\n",
        "            print_key = str(k)\n",
        "            print_str += f\" | {print_key}: {v:.5f}\"\n",
        "\n",
        "        print(print_str)\n",
        "        print(\"=\" * 100)\n",
        "        return metrics_d\n",
        "\n",
        "    def predict(self):\n",
        "        print(\"=\" * 100)\n",
        "        best_epoch = self.load_best_score_checkpoint()\n",
        "        print(f\"loaded model from epoch: {best_epoch}\")\n",
        "\n",
        "        _ = self.run_epoch(\"validation\", self.val_dataloader)\n",
        "\n",
        "        # get test_loss\n",
        "        test_epoch_metrics_l = []\n",
        "        for i, test_loader in enumerate(self.test_dataloaders):\n",
        "            test_epoch_metrics = self.run_epoch(\"test\", test_loader)\n",
        "            test_epoch_metrics_l.append(test_epoch_metrics)\n",
        "\n",
        "        return test_epoch_metrics_l"
      ],
      "metadata": {
        "id": "njlNqaPLZ707"
      },
      "execution_count": 19,
      "outputs": []
    },
    {
      "cell_type": "code",
      "source": [
        "MODEL_TYPE = {\n",
        "    \"add_SANSformer\": MimicAdditiveSansformerModel,\n",
        "    \"axial_SANSformer\": MimicAxialSansformerModel,\n",
        "}\n",
        "cfg.defrost()\n",
        "cfg.OPTIM.MAX_EPOCHS = 2"
      ],
      "metadata": {
        "id": "zD_NxTMEbmF4"
      },
      "execution_count": 20,
      "outputs": []
    },
    {
      "cell_type": "code",
      "source": [
        "common.seed_everything(cfg.RNG_SEED)\n",
        "\n",
        "(\n",
        "    train_dataloader,\n",
        "    val_dataloader,\n",
        "    test_dataloaders,\n",
        ") = loaders.get_mimic_dataloaders(cfg)"
      ],
      "metadata": {
        "id": "Es2iQ4fj7mDd",
        "colab": {
          "base_uri": "https://localhost:8080/"
        },
        "outputId": "6d946137-f07c-44e2-8231-af5386bc17a1"
      },
      "execution_count": 21,
      "outputs": [
        {
          "output_type": "stream",
          "name": "stdout",
          "text": [
            "Using seqlength of 200\n",
            "icd_all\n",
            "proc_all\n",
            "drg_all\n",
            "service_all\n",
            "admission_type\n",
            "insurance\n",
            "marital_status\n",
            "days_from_prev\n",
            "los\n",
            "Training: Stats\n",
            "count    15371.000000\n",
            "mean         7.205192\n",
            "std          7.565050\n",
            "min          3.000000\n",
            "25%          3.000000\n",
            "50%          5.000000\n",
            "75%          8.000000\n",
            "max        236.000000\n",
            "Name: seq_length, dtype: float64\n",
            "Using seqlength of 200\n",
            "icd_all\n",
            "proc_all\n",
            "drg_all\n",
            "service_all\n",
            "admission_type\n",
            "insurance\n",
            "marital_status\n",
            "days_from_prev\n",
            "los\n",
            "Using seqlength of 200\n",
            "icd_all\n",
            "proc_all\n",
            "drg_all\n",
            "service_all\n",
            "admission_type\n",
            "insurance\n",
            "marital_status\n",
            "days_from_prev\n",
            "los\n"
          ]
        }
      ]
    },
    {
      "cell_type": "code",
      "source": [
        "model = MODEL_TYPE[cfg.MODEL.TYPE](cfg)\n",
        "\n",
        "# initialize the trainer\n",
        "trainer = Trainer_MIMIC(\n",
        "    cfg, model, train_dataloader, val_dataloader, test_dataloaders\n",
        ")"
      ],
      "metadata": {
        "colab": {
          "base_uri": "https://localhost:8080/"
        },
        "id": "MG4xItelc8_r",
        "outputId": "192920ee-55d1-42f4-e522-311233b5f49e"
      },
      "execution_count": 22,
      "outputs": [
        {
          "output_type": "stream",
          "name": "stdout",
          "text": [
            "loaded pretrained model.\n",
            "+-----------------------------------------------------+------------+\n",
            "|                       Modules                       | Parameters |\n",
            "+-----------------------------------------------------+------------+\n",
            "|           pummel_embed.token_embed.weight           |   466440   |\n",
            "|                  ethn_embed.weight                  |    132     |\n",
            "|    sansformer.0.sans_attention.proj_ch1.0.weight    |   65536    |\n",
            "|     sansformer.0.sans_attention.proj_ch1.0.bias     |    512     |\n",
            "|     sansformer.0.sans_attention.conv_proj.weight    |   40000    |\n",
            "|      sansformer.0.sans_attention.conv_proj.bias     |    200     |\n",
            "|     sansformer.0.sans_attention.proj_out.weight     |   32768    |\n",
            "|      sansformer.0.sans_attention.proj_out.bias      |    128     |\n",
            "|       sansformer.0.sans_attention.norm1.weight      |    128     |\n",
            "|        sansformer.0.sans_attention.norm1.bias       |    128     |\n",
            "|       sansformer.0.sans_attention.norm2.weight      |    256     |\n",
            "|        sansformer.0.sans_attention.norm2.bias       |    256     |\n",
            "|       sansformer.0.sans_attention.norm3.weight      |    128     |\n",
            "|        sansformer.0.sans_attention.norm3.bias       |    128     |\n",
            "|              sansformer.0.norm1.weight              |    128     |\n",
            "|               sansformer.0.norm1.bias               |    128     |\n",
            "|              sansformer.0.norm2.weight              |    128     |\n",
            "|               sansformer.0.norm2.bias               |    128     |\n",
            "|               sansformer.0.ff.0.weight              |   65536    |\n",
            "|                sansformer.0.ff.0.bias               |    512     |\n",
            "|               sansformer.0.ff.3.weight              |   65536    |\n",
            "|                sansformer.0.ff.3.bias               |    128     |\n",
            "|    sansformer.1.sans_attention.proj_ch1.0.weight    |   65536    |\n",
            "|     sansformer.1.sans_attention.proj_ch1.0.bias     |    512     |\n",
            "|     sansformer.1.sans_attention.conv_proj.weight    |   40000    |\n",
            "|      sansformer.1.sans_attention.conv_proj.bias     |    200     |\n",
            "|     sansformer.1.sans_attention.proj_out.weight     |   32768    |\n",
            "|      sansformer.1.sans_attention.proj_out.bias      |    128     |\n",
            "|       sansformer.1.sans_attention.norm1.weight      |    128     |\n",
            "|        sansformer.1.sans_attention.norm1.bias       |    128     |\n",
            "|       sansformer.1.sans_attention.norm2.weight      |    256     |\n",
            "|        sansformer.1.sans_attention.norm2.bias       |    256     |\n",
            "|       sansformer.1.sans_attention.norm3.weight      |    128     |\n",
            "|        sansformer.1.sans_attention.norm3.bias       |    128     |\n",
            "|              sansformer.1.norm1.weight              |    128     |\n",
            "|               sansformer.1.norm1.bias               |    128     |\n",
            "|              sansformer.1.norm2.weight              |    128     |\n",
            "|               sansformer.1.norm2.bias               |    128     |\n",
            "|               sansformer.1.ff.0.weight              |   65536    |\n",
            "|                sansformer.1.ff.0.bias               |    512     |\n",
            "|               sansformer.1.ff.3.weight              |   65536    |\n",
            "|                sansformer.1.ff.3.bias               |    128     |\n",
            "|    sansformer.2.sans_attention.proj_ch1.0.weight    |   65536    |\n",
            "|     sansformer.2.sans_attention.proj_ch1.0.bias     |    512     |\n",
            "|     sansformer.2.sans_attention.conv_proj.weight    |   40000    |\n",
            "|      sansformer.2.sans_attention.conv_proj.bias     |    200     |\n",
            "|     sansformer.2.sans_attention.proj_out.weight     |   32768    |\n",
            "|      sansformer.2.sans_attention.proj_out.bias      |    128     |\n",
            "|       sansformer.2.sans_attention.norm1.weight      |    128     |\n",
            "|        sansformer.2.sans_attention.norm1.bias       |    128     |\n",
            "|       sansformer.2.sans_attention.norm2.weight      |    256     |\n",
            "|        sansformer.2.sans_attention.norm2.bias       |    256     |\n",
            "|       sansformer.2.sans_attention.norm3.weight      |    128     |\n",
            "|        sansformer.2.sans_attention.norm3.bias       |    128     |\n",
            "|              sansformer.2.norm1.weight              |    128     |\n",
            "|               sansformer.2.norm1.bias               |    128     |\n",
            "|              sansformer.2.norm2.weight              |    128     |\n",
            "|               sansformer.2.norm2.bias               |    128     |\n",
            "|               sansformer.2.ff.0.weight              |   65536    |\n",
            "|                sansformer.2.ff.0.bias               |    512     |\n",
            "|               sansformer.2.ff.3.weight              |   65536    |\n",
            "|                sansformer.2.ff.3.bias               |    128     |\n",
            "|    sansformer.3.sans_attention.proj_ch1.0.weight    |   65536    |\n",
            "|     sansformer.3.sans_attention.proj_ch1.0.bias     |    512     |\n",
            "|     sansformer.3.sans_attention.conv_proj.weight    |   40000    |\n",
            "|      sansformer.3.sans_attention.conv_proj.bias     |    200     |\n",
            "|     sansformer.3.sans_attention.proj_out.weight     |   32768    |\n",
            "|      sansformer.3.sans_attention.proj_out.bias      |    128     |\n",
            "|       sansformer.3.sans_attention.norm1.weight      |    128     |\n",
            "|        sansformer.3.sans_attention.norm1.bias       |    128     |\n",
            "|       sansformer.3.sans_attention.norm2.weight      |    256     |\n",
            "|        sansformer.3.sans_attention.norm2.bias       |    256     |\n",
            "|       sansformer.3.sans_attention.norm3.weight      |    128     |\n",
            "|        sansformer.3.sans_attention.norm3.bias       |    128     |\n",
            "|              sansformer.3.norm1.weight              |    128     |\n",
            "|               sansformer.3.norm1.bias               |    128     |\n",
            "|              sansformer.3.norm2.weight              |    128     |\n",
            "|               sansformer.3.norm2.bias               |    128     |\n",
            "|               sansformer.3.ff.0.weight              |   65536    |\n",
            "|                sansformer.3.ff.0.bias               |    512     |\n",
            "|               sansformer.3.ff.3.weight              |   65536    |\n",
            "|                sansformer.3.ff.3.bias               |    128     |\n",
            "| visit_sansformer.0.sans_attention.proj_ch1.0.weight |   16384    |\n",
            "|  visit_sansformer.0.sans_attention.proj_ch1.0.bias  |    128     |\n",
            "|  visit_sansformer.0.sans_attention.conv_proj.weight |   40000    |\n",
            "|   visit_sansformer.0.sans_attention.conv_proj.bias  |    200     |\n",
            "|  visit_sansformer.0.sans_attention.proj_out.weight  |    8192    |\n",
            "|   visit_sansformer.0.sans_attention.proj_out.bias   |    128     |\n",
            "|    visit_sansformer.0.sans_attention.norm1.weight   |    128     |\n",
            "|     visit_sansformer.0.sans_attention.norm1.bias    |    128     |\n",
            "|    visit_sansformer.0.sans_attention.norm2.weight   |     64     |\n",
            "|     visit_sansformer.0.sans_attention.norm2.bias    |     64     |\n",
            "|    visit_sansformer.0.sans_attention.norm3.weight   |    128     |\n",
            "|     visit_sansformer.0.sans_attention.norm3.bias    |    128     |\n",
            "|           visit_sansformer.0.norm1.weight           |    128     |\n",
            "|            visit_sansformer.0.norm1.bias            |    128     |\n",
            "|           visit_sansformer.0.norm2.weight           |    128     |\n",
            "|            visit_sansformer.0.norm2.bias            |    128     |\n",
            "|            visit_sansformer.0.ff.0.weight           |   16384    |\n",
            "|             visit_sansformer.0.ff.0.bias            |    128     |\n",
            "|            visit_sansformer.0.ff.3.weight           |   16384    |\n",
            "|             visit_sansformer.0.ff.3.bias            |    128     |\n",
            "| visit_sansformer.1.sans_attention.proj_ch1.0.weight |   16384    |\n",
            "|  visit_sansformer.1.sans_attention.proj_ch1.0.bias  |    128     |\n",
            "|  visit_sansformer.1.sans_attention.conv_proj.weight |   40000    |\n",
            "|   visit_sansformer.1.sans_attention.conv_proj.bias  |    200     |\n",
            "|  visit_sansformer.1.sans_attention.proj_out.weight  |    8192    |\n",
            "|   visit_sansformer.1.sans_attention.proj_out.bias   |    128     |\n",
            "|    visit_sansformer.1.sans_attention.norm1.weight   |    128     |\n",
            "|     visit_sansformer.1.sans_attention.norm1.bias    |    128     |\n",
            "|    visit_sansformer.1.sans_attention.norm2.weight   |     64     |\n",
            "|     visit_sansformer.1.sans_attention.norm2.bias    |     64     |\n",
            "|    visit_sansformer.1.sans_attention.norm3.weight   |    128     |\n",
            "|     visit_sansformer.1.sans_attention.norm3.bias    |    128     |\n",
            "|           visit_sansformer.1.norm1.weight           |    128     |\n",
            "|            visit_sansformer.1.norm1.bias            |    128     |\n",
            "|           visit_sansformer.1.norm2.weight           |    128     |\n",
            "|            visit_sansformer.1.norm2.bias            |    128     |\n",
            "|            visit_sansformer.1.ff.0.weight           |   16384    |\n",
            "|             visit_sansformer.1.ff.0.bias            |    128     |\n",
            "|            visit_sansformer.1.ff.3.weight           |   16384    |\n",
            "|             visit_sansformer.1.ff.3.bias            |    128     |\n",
            "| visit_sansformer.2.sans_attention.proj_ch1.0.weight |   16384    |\n",
            "|  visit_sansformer.2.sans_attention.proj_ch1.0.bias  |    128     |\n",
            "|  visit_sansformer.2.sans_attention.conv_proj.weight |   40000    |\n",
            "|   visit_sansformer.2.sans_attention.conv_proj.bias  |    200     |\n",
            "|  visit_sansformer.2.sans_attention.proj_out.weight  |    8192    |\n",
            "|   visit_sansformer.2.sans_attention.proj_out.bias   |    128     |\n",
            "|    visit_sansformer.2.sans_attention.norm1.weight   |    128     |\n",
            "|     visit_sansformer.2.sans_attention.norm1.bias    |    128     |\n",
            "|    visit_sansformer.2.sans_attention.norm2.weight   |     64     |\n",
            "|     visit_sansformer.2.sans_attention.norm2.bias    |     64     |\n",
            "|    visit_sansformer.2.sans_attention.norm3.weight   |    128     |\n",
            "|     visit_sansformer.2.sans_attention.norm3.bias    |    128     |\n",
            "|           visit_sansformer.2.norm1.weight           |    128     |\n",
            "|            visit_sansformer.2.norm1.bias            |    128     |\n",
            "|           visit_sansformer.2.norm2.weight           |    128     |\n",
            "|            visit_sansformer.2.norm2.bias            |    128     |\n",
            "|            visit_sansformer.2.ff.0.weight           |   16384    |\n",
            "|             visit_sansformer.2.ff.0.bias            |    128     |\n",
            "|            visit_sansformer.2.ff.3.weight           |   16384    |\n",
            "|             visit_sansformer.2.ff.3.bias            |    128     |\n",
            "| visit_sansformer.3.sans_attention.proj_ch1.0.weight |   16384    |\n",
            "|  visit_sansformer.3.sans_attention.proj_ch1.0.bias  |    128     |\n",
            "|  visit_sansformer.3.sans_attention.conv_proj.weight |   40000    |\n",
            "|   visit_sansformer.3.sans_attention.conv_proj.bias  |    200     |\n",
            "|  visit_sansformer.3.sans_attention.proj_out.weight  |    8192    |\n",
            "|   visit_sansformer.3.sans_attention.proj_out.bias   |    128     |\n",
            "|    visit_sansformer.3.sans_attention.norm1.weight   |    128     |\n",
            "|     visit_sansformer.3.sans_attention.norm1.bias    |    128     |\n",
            "|    visit_sansformer.3.sans_attention.norm2.weight   |     64     |\n",
            "|     visit_sansformer.3.sans_attention.norm2.bias    |     64     |\n",
            "|    visit_sansformer.3.sans_attention.norm3.weight   |    128     |\n",
            "|     visit_sansformer.3.sans_attention.norm3.bias    |    128     |\n",
            "|           visit_sansformer.3.norm1.weight           |    128     |\n",
            "|            visit_sansformer.3.norm1.bias            |    128     |\n",
            "|           visit_sansformer.3.norm2.weight           |    128     |\n",
            "|            visit_sansformer.3.norm2.bias            |    128     |\n",
            "|            visit_sansformer.3.ff.0.weight           |   16384    |\n",
            "|             visit_sansformer.3.ff.0.bias            |    128     |\n",
            "|            visit_sansformer.3.ff.3.weight           |   16384    |\n",
            "|             visit_sansformer.3.ff.3.bias            |    128     |\n",
            "|                   bin_fc.0.weight                   |    128     |\n",
            "|                    bin_fc.0.bias                    |    128     |\n",
            "|                   bin_fc.1.weight                   |    128     |\n",
            "|                    bin_fc.1.bias                    |     1      |\n",
            "+-----------------------------------------------------+------------+\n",
            "Total Trainable Params: 1953357\n"
          ]
        }
      ]
    },
    {
      "cell_type": "markdown",
      "source": [
        "##Model Architecture\n",
        "The trainer_MIMIC model contains a total of 1,953,357 trainable parameters. Indicating its capacity to model complex patterns and relationships in large-scale data effectively. The architecture suggests a deep, multi-layer transformer-based model, using repeated blocks of custom transformers (SANSformer and Visit SANSformer), each with projection, convolution, normalization, and feedforward components to deeply process and transform the input EHR data.\n",
        "There are embedding layers(pummel_embed.token_embed.weight,ethn_embed.weight, etc.), SANSformer Layers, including projection and convolution layers(proj_ch1,conv_proj,proj_out,etc.), normalization layers(norm1,norm2,norm3,etc.), feedforward layers(ff,etc.).\n",
        "Also there are activation functions, the specific activation functions used aren't directly listed in the module breakdown, but common choices in similar architectures include ReLU or GELU. After all there are binary output layers(bin_fc, etc.), These layers are the final stages in the network designed for binary classification tasks.\n"
      ],
      "metadata": {
        "id": "EV_Z_xDPsq9j"
      }
    },
    {
      "cell_type": "markdown",
      "source": [
        "##Training Objective\n",
        "The model aims to predict mortality rate and uses spearman loss for training. If the prediction is highly correlated with the ground truth, the model will have a small loss. It also uses AUC as another metric for model evaluation.\n"
      ],
      "metadata": {
        "id": "4kbbdlpRs4HR"
      }
    },
    {
      "cell_type": "markdown",
      "source": [
        "# Results\n"
      ],
      "metadata": {
        "id": "gX6bCcZNuxmz"
      }
    },
    {
      "cell_type": "markdown",
      "source": [
        "### Loss curve of training on MIMIC dataset for 20 epochs"
      ],
      "metadata": {
        "id": "S0_NOnqx_Puh"
      }
    },
    {
      "cell_type": "code",
      "source": [
        "from google.colab.patches import cv2_imshow\n",
        "training_curve_dir = os.path.join(code_path, 'results/at_2024_04_12_00_05_14/training_losses.png')\n",
        "\n",
        "img = cv2.imread(training_curve_dir)\n",
        "cv2_imshow(img)"
      ],
      "metadata": {
        "id": "EF6sivB-9nGb",
        "colab": {
          "base_uri": "https://localhost:8080/",
          "height": 691
        },
        "outputId": "58a9ffa3-b1b8-4672-8bea-af9f2cda0226"
      },
      "execution_count": 23,
      "outputs": [
        {
          "output_type": "display_data",
          "data": {
            "text/plain": [
              "<PIL.Image.Image image mode=RGB size=1400x800>"
            ],
            "image/png": "[encoded data removed]"
          },
          "metadata": {}
        }
      ]
    },
    {
      "cell_type": "markdown",
      "source": [
        "### Model Evaluation"
      ],
      "metadata": {
        "id": "kObnNV79_6YJ"
      }
    },
    {
      "cell_type": "markdown",
      "source": [
        "Test pretrained model"
      ],
      "metadata": {
        "id": "O_4NA_fR_t4_"
      }
    },
    {
      "cell_type": "code",
      "source": [
        "test_epoch_metrics_l = []\n",
        "for i, test_loader in enumerate(test_dataloaders):\n",
        "  if i == 0:\n",
        "    test_epoch_metrics = trainer.run_epoch(\"test\", test_loader)\n",
        "    test_epoch_metrics_l.append(test_epoch_metrics)"
      ],
      "metadata": {
        "id": "lHSdXPZQ7oVX",
        "colab": {
          "base_uri": "https://localhost:8080/"
        },
        "outputId": "7bda9609-80c2-4b41-8026-ff029d1ed105"
      },
      "execution_count": 24,
      "outputs": [
        {
          "output_type": "stream",
          "name": "stdout",
          "text": [
            "test epoch: 1  | loss: 0.63946 | bin_loss: 0.63946 | los_loss: 0.00000 | auc_bin: 0.69387 | spearman_los: nan\n",
            "====================================================================================================\n"
          ]
        }
      ]
    },
    {
      "cell_type": "code",
      "source": [
        "print(\"Test AUC: %f\" % test_epoch_metrics_l[0]['auc_bin'])"
      ],
      "metadata": {
        "id": "XzDORf6ZgjWN",
        "colab": {
          "base_uri": "https://localhost:8080/"
        },
        "outputId": "d52f1614-e8bc-4c13-a2e4-1f4cc042993e"
      },
      "execution_count": 25,
      "outputs": [
        {
          "output_type": "stream",
          "name": "stdout",
          "text": [
            "Test AUC: 0.693869\n"
          ]
        }
      ]
    },
    {
      "cell_type": "markdown",
      "source": [
        "## Model comparison"
      ],
      "metadata": {
        "id": "8EAWAy_LwHlV"
      }
    },
    {
      "cell_type": "code",
      "source": [
        "# compare you model with others\n",
        "# you don't need to re-run all other experiments, instead, you can directly refer the metrics/numbers in the paper"
      ],
      "metadata": {
        "id": "uOdhGrbwwG71"
      },
      "execution_count": 26,
      "outputs": []
    },
    {
      "cell_type": "markdown",
      "source": [
        "# Discussion\n",
        "\n",
        "In this section,you should discuss your work and make future plan. The discussion should address the following questions:\n",
        "  * Make assessment that the paper is reproducible or not.\n",
        "  * Explain why it is not reproducible if your results are kind negative.\n",
        "  * Describe “What was easy” and “What was difficult” during the reproduction.\n",
        "  * Make suggestions to the author or other reproducers on how to improve the reproducibility.\n",
        "  * What will you do in next phase.\n",
        "\n"
      ],
      "metadata": {
        "id": "qH75TNU71eRH"
      }
    },
    {
      "cell_type": "code",
      "source": [
        "# no code is required for this section\n",
        "'''\n",
        "if you want to use an image outside this notebook for explanaition,\n",
        "you can read and plot it here like the Scope of Reproducibility\n",
        "'''"
      ],
      "metadata": {
        "id": "E2VDXo5F4Frm",
        "colab": {
          "base_uri": "https://localhost:8080/",
          "height": 53
        },
        "outputId": "c68f0f51-3b91-4aec-be6b-9e32627f57a8"
      },
      "execution_count": 27,
      "outputs": [
        {
          "output_type": "execute_result",
          "data": {
            "text/plain": [
              "'\\nif you want to use an image outside this notebook for explanaition,\\nyou can read and plot it here like the Scope of Reproducibility\\n'"
            ],
            "application/vnd.google.colaboratory.intrinsic+json": {
              "type": "string"
            }
          },
          "metadata": {},
          "execution_count": 27
        }
      ]
    },
    {
      "cell_type": "code",
      "source": [
        "print((time.time() - starttime)/60)"
      ],
      "metadata": {
        "colab": {
          "base_uri": "https://localhost:8080/"
        },
        "id": "Fm5GzdHQpD7u",
        "outputId": "c0c79533-febe-4fd8-958e-e232000bd369"
      },
      "execution_count": 28,
      "outputs": [
        {
          "output_type": "stream",
          "name": "stdout",
          "text": [
            "5.423498010635376\n"
          ]
        }
      ]
    },
    {
      "cell_type": "markdown",
      "source": [
        "# References\n",
        "\n",
        "1.   Yogesh Kumar , Alexander Ilin , Henri Salo , et al. SANSformers: Self-Supervised Forecasting in Electronic Health Records with Attention-Free Models. TechRxiv. August 14, 2023.\n",
        "\n"
      ],
      "metadata": {
        "id": "SHMI2chl9omn"
      }
    }
  ]
}
